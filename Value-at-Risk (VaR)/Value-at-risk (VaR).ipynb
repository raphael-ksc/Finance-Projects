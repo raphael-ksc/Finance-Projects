{
 "cells": [
  {
   "cell_type": "code",
   "execution_count": 21,
   "id": "a4631c79",
   "metadata": {},
   "outputs": [],
   "source": [
    "import numpy as np\n",
    "import pandas as pd\n",
    "import yfinance as yf\n",
    "from tabulate import tabulate\n",
    "\n",
    "# Plotting\n",
    "import matplotlib.pyplot as plt\n",
    "import seaborn\n",
    "import matplotlib.mlab as mlab\n",
    "\n",
    "#Statistical calculation\n",
    "from scipy.stats import norm"
   ]
  },
  {
   "cell_type": "code",
   "execution_count": 28,
   "id": "3a0d39a3",
   "metadata": {},
   "outputs": [
    {
     "name": "stdout",
     "output_type": "stream",
     "text": [
      "[*********************100%***********************]  1 of 1 completed\n"
     ]
    },
    {
     "data": {
      "text/plain": [
       "Date\n",
       "2003-01-03    0.009215\n",
       "2003-01-06    0.006513\n",
       "2003-01-07   -0.000293\n",
       "2003-01-08    0.000065\n",
       "2003-01-09   -0.003187\n",
       "                ...   \n",
       "2023-02-23   -0.003978\n",
       "2023-02-24    0.002965\n",
       "2023-02-27   -0.011250\n",
       "2023-02-28    0.004651\n",
       "2023-03-01   -0.000937\n",
       "Name: Close, Length: 5094, dtype: float64"
      ]
     },
     "execution_count": 28,
     "metadata": {},
     "output_type": "execute_result"
    }
   ],
   "source": [
    "df = yf.download(\"^AXJO\", \"2003-01-01\", \"2023-03-02\")\n",
    "returns = df[\"Close\"].pct_change().dropna()"
   ]
  },
  {
   "cell_type": "code",
   "execution_count": 41,
   "id": "85af5f59",
   "metadata": {},
   "outputs": [
    {
     "data": {
      "image/png": "[encoded data removed]",
      "text/plain": [
       "<Figure size 432x288 with 1 Axes>"
      ]
     },
     "metadata": {
      "needs_background": "light"
     },
     "output_type": "display_data"
    }
   ],
   "source": [
    "mu, std = norm.fit(returns)\n",
    "\n",
    "\n",
    "plt.hist(returns, bins=30, density=True, color=\"#042440\")\n",
    "plt.title('Daily Returns Histogram')\n",
    "plt.xlabel('Returns')\n",
    "plt.ylabel('Frequency')\n",
    "\n",
    "x = np.linspace(mu - 3*sigma, mu + 3*sigma, 100)\n",
    "y = 1/(sigma * np.sqrt(2 * np.pi)) * np.exp(-(x - mu)**2 / (2 * sigma**2))\n",
    "plt.plot(x, y, color='#BFAE5A')\n",
    "\n",
    "plt.show()\n",
    "\n"
   ]
  },
  {
   "cell_type": "code",
   "execution_count": 49,
   "id": "57986b67",
   "metadata": {},
   "outputs": [
    {
     "name": "stderr",
     "output_type": "stream",
     "text": [
      "C:\\Users\\USER\\AppData\\Local\\Temp/ipykernel_18772/2051565687.py:11: UserWarning: color is redundantly defined by the 'color' keyword argument and the fmt string \"k\" (-> color=(0.0, 0.0, 0.0, 1)). The keyword argument will take precedence.\n",
      "  plt.plot(x, p, 'k', linewidth=2, color='#BFAE5A')\n"
     ]
    },
    {
     "data": {
      "image/png": "[encoded data removed]",
      "text/plain": [
       "<Figure size 432x288 with 1 Axes>"
      ]
     },
     "metadata": {
      "needs_background": "light"
     },
     "output_type": "display_data"
    }
   ],
   "source": [
    "# Create a histogram\n",
    "plt.hist(returns, bins=30, density=True,color=\"#042440\")\n",
    "\n",
    "# Fit a probability density function\n",
    "mu, std = norm.fit(returns)\n",
    "xmin, xmax = plt.xlim()\n",
    "x = np.linspace(xmin, xmax, 100)\n",
    "p = norm.pdf(x, mu, std)\n",
    "\n",
    "# Plot the PDF\n",
    "plt.plot(x, p, 'k', linewidth=2, color='#BFAE5A')\n",
    "plt.xlabel('Daily returns')\n",
    "plt.ylabel('Frequency')\n",
    "plt.title('Probability Density Function of Daily Returns')\n",
    "plt.show()\n"
   ]
  },
  {
   "cell_type": "code",
   "execution_count": 50,
   "id": "2c9d46f3",
   "metadata": {},
   "outputs": [
    {
     "name": "stdout",
     "output_type": "stream",
     "text": [
      "Confidence Level      Value at Risk\n",
      "------------------  ---------------\n",
      "90%                      -0.0130819\n",
      "95%                      -0.0168543\n",
      "99%                      -0.0239309\n"
     ]
    }
   ],
   "source": [
    "VaR_90 = norm.ppf(1-0.9, mean, std_dev)\n",
    "VaR_95 = norm.ppf(1-0.95, mean, std_dev)\n",
    "VaR_99 = norm.ppf(1-0.99, mean, std_dev)\n",
    "print (tabulate([['90%', VaR_90], ['95%', VaR_95], ['99%', VaR_99]], headers = ['Confidence Level', 'Value at Risk']))"
   ]
  },
  {
   "cell_type": "markdown",
   "id": "5b7525cf",
   "metadata": {},
   "source": [
    "### Historic Stimulation"
   ]
  },
  {
   "cell_type": "code",
   "execution_count": 52,
   "id": "c32388ef",
   "metadata": {},
   "outputs": [
    {
     "name": "stdout",
     "output_type": "stream",
     "text": [
      "Confidence Level      Value at Risk\n",
      "------------------  ---------------\n",
      "90%                      -0.0111369\n",
      "95%                      -0.0161037\n",
      "99%                      -0.0118305\n"
     ]
    }
   ],
   "source": [
    "returns.sort_values(inplace = True, ascending =  True)\n",
    "# Calculate the VaR for 90%, 95%, and 99% confidence levels using quantile function\n",
    "VaR_90 = returns.quantile(0.1)\n",
    "VaR_95 = returns.quantile(0.05)\n",
    "VaR_99 = returns.quantile(0.09)\n",
    "print (tabulate([['90%', VaR_90], ['95%', VaR_95], ['99%', VaR_99]], headers = ['Confidence Level', 'Value at Risk']))"
   ]
  },
  {
   "cell_type": "code",
   "execution_count": null,
   "id": "bd517c9b",
   "metadata": {},
   "outputs": [],
   "source": []
  }
 ],
 "metadata": {
  "kernelspec": {
   "display_name": "Python 3 (ipykernel)",
   "language": "python",
   "name": "python3"
  },
  "language_info": {
   "codemirror_mode": {
    "name": "ipython",
    "version": 3
   },
   "file_extension": ".py",
   "mimetype": "text/x-python",
   "name": "python",
   "nbconvert_exporter": "python",
   "pygments_lexer": "ipython3",
   "version": "3.9.7"
  }
 },
 "nbformat": 4,
 "nbformat_minor": 5
}
