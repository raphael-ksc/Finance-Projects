{
 "cells": [
  {
   "cell_type": "markdown",
   "id": "5e16a612",
   "metadata": {},
   "source": [
    " # Bucket FICO scores"
   ]
  },
  {
   "cell_type": "markdown",
   "id": "ce7ebe59",
   "metadata": {},
   "source": [
    "Charlie wants to make her model work for future data sets, so she needs a general approach to generating the buckets. Given a set number of buckets corresponding to the number of input labels for the model, she would like to find out the boundaries that best summarize the data. You need to create a rating map that maps the FICO score of the borrowers to a rating where a lower rating signifies a better credit score.\n",
    "\n",
    "The process of doing this is known as quantization. You could consider many ways of solving the problem by optimizing different properties of the resulting buckets, such as the mean squared error or log-likelihood (see below for definitions)."
   ]
  },
  {
   "cell_type": "code",
   "execution_count": 18,
   "id": "946ed7ae",
   "metadata": {},
   "outputs": [],
   "source": [
    "import numpy as np\n",
    "import pandas as pd\n",
    "from scipy import stats\n",
    "\n",
    "from sklearn.tree import DecisionTreeClassifier"
   ]
  },
  {
   "cell_type": "code",
   "execution_count": 55,
   "id": "27155ef2",
   "metadata": {},
   "outputs": [
    {
     "name": "stdout",
     "output_type": "stream",
     "text": [
      "<class 'pandas.core.frame.DataFrame'>\n",
      "RangeIndex: 10000 entries, 0 to 9999\n",
      "Data columns (total 7 columns):\n",
      " #   Column                    Non-Null Count  Dtype  \n",
      "---  ------                    --------------  -----  \n",
      " 0   credit_lines_outstanding  10000 non-null  int64  \n",
      " 1   loan_amt_outstanding      10000 non-null  float64\n",
      " 2   total_debt_outstanding    10000 non-null  float64\n",
      " 3   income                    10000 non-null  float64\n",
      " 4   years_employed            10000 non-null  int64  \n",
      " 5   fico_score                10000 non-null  int64  \n",
      " 6   default                   10000 non-null  int64  \n",
      "dtypes: float64(3), int64(4)\n",
      "memory usage: 547.0 KB\n"
     ]
    }
   ],
   "source": [
    "file_path = \"Loan_Data.csv\"\n",
    "Loan = pd.read_csv(file_path)\n",
    "\n",
    "Loan = Loan.drop([\"customer_id\"], axis = 1)\n",
    "Loan.info()"
   ]
  },
  {
   "cell_type": "code",
   "execution_count": 63,
   "id": "4c0b107b",
   "metadata": {},
   "outputs": [
    {
     "name": "stdout",
     "output_type": "stream",
     "text": [
      "Thresholds:  [0, 520.5, 580.5, 640.5, 850]\n",
      "Log Likelihood:  -6931.471805599453\n"
     ]
    }
   ],
   "source": [
    "X = Loan[[\"fico_score\"]]\n",
    "y = Loan[[\"default\"]]\n",
    "\n",
    "tree = DecisionTreeClassifier(max_depth = 2)\n",
    "\n",
    "# Fit the decision tree to the data\n",
    "tree.fit(X, y)\n",
    "\n",
    "# Extract the optimal thresholds from the decision tree\n",
    "thresholds = tree.tree_.threshold[tree.tree_.children_left != tree.tree_.children_right]\n",
    "\n",
    "# Sort and remove duplicates\n",
    "thresholds = list(np.sort(np.unique(thresholds)))\n",
    "thresholds = [0] + thresholds\n",
    "thresholds.append(850)\n",
    "\n",
    "# Use the thresholds for discretization\n",
    "Loan['fico_bin'] = pd.cut(Loan['fico_score'], bins = thresholds)\n",
    "\n",
    "# Calculate class probabilities for each unique feature value\n",
    "class_probabilities = Loan.groupby('fico_bin')['default'].mean().to_dict()\n",
    "\n",
    "# Calculate log-likelihood for each instance\n",
    "Loan['Log_Likelihood'] = Loan['default'].map(lambda x: np.log(class_probabilities.get(x, 0.5)))\n",
    "\n",
    "# Sum up the log likelihood value \n",
    "print(\"Thresholds: \", thresholds)\n",
    "print(\"Log Likelihood: \", Loan[\"Log_Likelihood\"].sum())\n"
   ]
  },
  {
   "cell_type": "code",
   "execution_count": null,
   "id": "8535c4ef",
   "metadata": {},
   "outputs": [],
   "source": []
  }
 ],
 "metadata": {
  "kernelspec": {
   "display_name": "Python 3",
   "language": "python",
   "name": "python3"
  },
  "language_info": {
   "codemirror_mode": {
    "name": "ipython",
    "version": 3
   },
   "file_extension": ".py",
   "mimetype": "text/x-python",
   "name": "python",
   "nbconvert_exporter": "python",
   "pygments_lexer": "ipython3",
   "version": "3.8.8"
  }
 },
 "nbformat": 4,
 "nbformat_minor": 5
}
