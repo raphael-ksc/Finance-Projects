{
 "cells": [
  {
   "cell_type": "markdown",
   "id": "0ff1fdb3",
   "metadata": {},
   "source": [
    "# Loan Default Risk\n",
    "\n",
    "The risk manager has collected data on the loan borrowers. The data is in tabular format, with each row providing details of the borrower, including their income, total loans outstanding, and a few other metrics. There is also a column indicating if the borrower has previously defaulted on a loan. You must use this data to build a model that, given details for any loan described above, will predict the probability that the borrower will default (also known as PD: the probability of default). Use the provided data to train a function that will estimate the probability of default for a borrower. Assuming a recovery rate of 10%, this can be used to give the expected loss on a loan.\n",
    "\n",
    "You should produce a function that can take in the properties of a loan and output the expected loss.\n",
    "You can explore any technique ranging from a simple regression or a decision tree to something more advanced. You can also use multiple methods and provide a comparative analysis."
   ]
  },
  {
   "cell_type": "markdown",
   "id": "a6c2ace8",
   "metadata": {},
   "source": [
    "## Part 1 Data Preparation"
   ]
  },
  {
   "cell_type": "markdown",
   "id": "ccd9ccdd",
   "metadata": {},
   "source": [
    "### 1-1 Import libraries and data"
   ]
  },
  {
   "cell_type": "code",
   "execution_count": 100,
   "id": "93ee563e",
   "metadata": {},
   "outputs": [],
   "source": [
    "# basic libaries \n",
    "import pandas as pd\n",
    "import numpy as np\n",
    "import datetime\n",
    "\n",
    "# matplotlib\n",
    "import matplotlib.pyplot as plt\n",
    "from matplotlib.dates import DateFormatter\n",
    "\n",
    "import seaborn as sns\n",
    "from collections import Counter\n",
    "\n",
    "\n",
    "# Sklearn machine learning libraries\n",
    "from sklearn.preprocessing import StandardScaler\n",
    "from sklearn.utils import resample\n",
    "from sklearn.metrics import classification_report, accuracy_score\n",
    "from sklearn.model_selection import train_test_split\n",
    "from sklearn.naive_bayes import GaussianNB\n",
    "from sklearn.linear_model import LogisticRegression\n",
    "from sklearn.ensemble import RandomForestClassifier\n",
    "\n",
    "\n",
    "\n",
    "# Just personal preference of colours \n",
    "Kookaburra = \"#003C55\"\n",
    "Possum = \"#73234B\"\n",
    "DarkBlue = \"#061E3E\"\n",
    "Blue = \"#002960\"\n",
    "Red = \"#CD202C\"\n",
    "Turquoise = \"#006983\"\n",
    "Cyan = \"#0093D3\"\n",
    "\n",
    "# Million\n",
    "Million = 1000000"
   ]
  },
  {
   "cell_type": "code",
   "execution_count": 101,
   "id": "546685be",
   "metadata": {},
   "outputs": [
    {
     "data": {
      "text/html": [
       "<div>\n",
       "<style scoped>\n",
       "    .dataframe tbody tr th:only-of-type {\n",
       "        vertical-align: middle;\n",
       "    }\n",
       "\n",
       "    .dataframe tbody tr th {\n",
       "        vertical-align: top;\n",
       "    }\n",
       "\n",
       "    .dataframe thead th {\n",
       "        text-align: right;\n",
       "    }\n",
       "</style>\n",
       "<table border=\"1\" class=\"dataframe\">\n",
       "  <thead>\n",
       "    <tr style=\"text-align: right;\">\n",
       "      <th></th>\n",
       "      <th>customer_id</th>\n",
       "      <th>credit_lines_outstanding</th>\n",
       "      <th>loan_amt_outstanding</th>\n",
       "      <th>total_debt_outstanding</th>\n",
       "      <th>income</th>\n",
       "      <th>years_employed</th>\n",
       "      <th>fico_score</th>\n",
       "      <th>default</th>\n",
       "    </tr>\n",
       "  </thead>\n",
       "  <tbody>\n",
       "    <tr>\n",
       "      <th>0</th>\n",
       "      <td>8153374</td>\n",
       "      <td>0</td>\n",
       "      <td>5221.545193</td>\n",
       "      <td>3915.471226</td>\n",
       "      <td>78039.38546</td>\n",
       "      <td>5</td>\n",
       "      <td>605</td>\n",
       "      <td>0</td>\n",
       "    </tr>\n",
       "    <tr>\n",
       "      <th>1</th>\n",
       "      <td>7442532</td>\n",
       "      <td>5</td>\n",
       "      <td>1958.928726</td>\n",
       "      <td>8228.752520</td>\n",
       "      <td>26648.43525</td>\n",
       "      <td>2</td>\n",
       "      <td>572</td>\n",
       "      <td>1</td>\n",
       "    </tr>\n",
       "    <tr>\n",
       "      <th>2</th>\n",
       "      <td>2256073</td>\n",
       "      <td>0</td>\n",
       "      <td>3363.009259</td>\n",
       "      <td>2027.830850</td>\n",
       "      <td>65866.71246</td>\n",
       "      <td>4</td>\n",
       "      <td>602</td>\n",
       "      <td>0</td>\n",
       "    </tr>\n",
       "    <tr>\n",
       "      <th>3</th>\n",
       "      <td>4885975</td>\n",
       "      <td>0</td>\n",
       "      <td>4766.648001</td>\n",
       "      <td>2501.730397</td>\n",
       "      <td>74356.88347</td>\n",
       "      <td>5</td>\n",
       "      <td>612</td>\n",
       "      <td>0</td>\n",
       "    </tr>\n",
       "    <tr>\n",
       "      <th>4</th>\n",
       "      <td>4700614</td>\n",
       "      <td>1</td>\n",
       "      <td>1345.827718</td>\n",
       "      <td>1768.826187</td>\n",
       "      <td>23448.32631</td>\n",
       "      <td>6</td>\n",
       "      <td>631</td>\n",
       "      <td>0</td>\n",
       "    </tr>\n",
       "  </tbody>\n",
       "</table>\n",
       "</div>"
      ],
      "text/plain": [
       "   customer_id  credit_lines_outstanding  loan_amt_outstanding  \\\n",
       "0      8153374                         0           5221.545193   \n",
       "1      7442532                         5           1958.928726   \n",
       "2      2256073                         0           3363.009259   \n",
       "3      4885975                         0           4766.648001   \n",
       "4      4700614                         1           1345.827718   \n",
       "\n",
       "   total_debt_outstanding       income  years_employed  fico_score  default  \n",
       "0             3915.471226  78039.38546               5         605        0  \n",
       "1             8228.752520  26648.43525               2         572        1  \n",
       "2             2027.830850  65866.71246               4         602        0  \n",
       "3             2501.730397  74356.88347               5         612        0  \n",
       "4             1768.826187  23448.32631               6         631        0  "
      ]
     },
     "execution_count": 101,
     "metadata": {},
     "output_type": "execute_result"
    }
   ],
   "source": [
    "file_path = \"Loan_Data.csv\"\n",
    "Loan = pd.read_csv(file_path)\n",
    "\n",
    "Loan.head()"
   ]
  },
  {
   "cell_type": "code",
   "execution_count": 32,
   "id": "9ba8e2b5",
   "metadata": {},
   "outputs": [
    {
     "name": "stdout",
     "output_type": "stream",
     "text": [
      "<class 'pandas.core.frame.DataFrame'>\n",
      "RangeIndex: 10000 entries, 0 to 9999\n",
      "Data columns (total 7 columns):\n",
      " #   Column                    Non-Null Count  Dtype  \n",
      "---  ------                    --------------  -----  \n",
      " 0   credit_lines_outstanding  10000 non-null  int64  \n",
      " 1   loan_amt_outstanding      10000 non-null  float64\n",
      " 2   total_debt_outstanding    10000 non-null  float64\n",
      " 3   income                    10000 non-null  float64\n",
      " 4   years_employed            10000 non-null  int64  \n",
      " 5   fico_score                10000 non-null  int64  \n",
      " 6   default                   10000 non-null  int64  \n",
      "dtypes: float64(3), int64(4)\n",
      "memory usage: 547.0 KB\n"
     ]
    }
   ],
   "source": [
    "Loan = Loan.drop([\"customer_id\"], axis = 1) # Drop customer ID as it is irrelevant\n",
    "Loan.info()"
   ]
  },
  {
   "cell_type": "markdown",
   "id": "1579c751",
   "metadata": {},
   "source": [
    "### 1-2 Data Exploration"
   ]
  },
  {
   "cell_type": "markdown",
   "id": "d1c44ce7",
   "metadata": {},
   "source": [
    "#### Visualise default risk distribution"
   ]
  },
  {
   "cell_type": "code",
   "execution_count": 24,
   "id": "5270b5dc",
   "metadata": {},
   "outputs": [
    {
     "data": {
      "image/png": "[encoded data removed]",
      "text/plain": [
       "<Figure size 432x216 with 1 Axes>"
      ]
     },
     "metadata": {
      "needs_background": "light"
     },
     "output_type": "display_data"
    },
    {
     "name": "stdout",
     "output_type": "stream",
     "text": [
      "Number of defaults: 1851\n",
      "Number of non-defaults:8149\n"
     ]
    }
   ],
   "source": [
    "plt.figure(figsize=(6, 3))  \n",
    "\n",
    "Loan[\"default\"].hist(color = DarkBlue)\n",
    "\n",
    "# Set the x-axis label font size to 12\n",
    "plt.xlabel('Default or not', fontsize=12)\n",
    "\n",
    "# Set the y-axis label font size to 12\n",
    "plt.ylabel('Frequency', fontsize=12)\n",
    "\n",
    "# Set the title of the plot to 'Age Distribution'\n",
    "plt.title('Default distribution', fontsize = 14, color = Kookaburra)\n",
    "\n",
    "plt.show()\n",
    "\n",
    "Num_Default = len(Loan[Loan[\"default\"] == 1])\n",
    "Num_nonDefault = len(Loan[Loan[\"default\"] == 0])\n",
    "\n",
    "print(\"Number of defaults: {}\\nNumber of non-defaults:{}\".format(Num_Default, Num_nonDefault))"
   ]
  },
  {
   "cell_type": "markdown",
   "id": "850d04bd",
   "metadata": {},
   "source": [
    "The graph shows an inbalance between the defaults and non-defaults, suggesting that further method to balance the distribution of labels is needed.  "
   ]
  },
  {
   "cell_type": "markdown",
   "id": "74279deb",
   "metadata": {},
   "source": [
    "## Part 2 Data Engineering"
   ]
  },
  {
   "cell_type": "markdown",
   "id": "0b35a9b9",
   "metadata": {},
   "source": [
    "### 2-1 Resample data"
   ]
  },
  {
   "cell_type": "code",
   "execution_count": 102,
   "id": "c221f302",
   "metadata": {},
   "outputs": [
    {
     "name": "stdout",
     "output_type": "stream",
     "text": [
      "Number of defaults: 8149\n",
      "Number of non-defaults:8149\n"
     ]
    }
   ],
   "source": [
    "X = Loan\n",
    "y = Loan[\"default\"]\n",
    "\n",
    "# Oversamply default instances to balance the data\n",
    "X_oversampled, y_oversampled = resample(X[y == 1],\n",
    "                                        y[y == 1],\n",
    "                                        replace = True,\n",
    "                                        n_samples = len(X[y == 0]),\n",
    "                                        random_state = 168)\n",
    "\n",
    "X_balanced = np.vstack((X[y == 0], X_oversampled))\n",
    "y_balanced = np.hstack((y[y == 0], y_oversampled))\n",
    "\n",
    "# Drop the label\n",
    "X_balanced = X_balanced[::,:-1]\n",
    "\n",
    "# Label distribution after oversampling the minority\n",
    "print(\"Number of defaults: {}\\nNumber of non-defaults:{}\".format(np.count_nonzero(y_balanced == 1), \n",
    "                                                                 np.count_nonzero(y_balanced == 0)))"
   ]
  },
  {
   "cell_type": "markdown",
   "id": "1ad19809",
   "metadata": {},
   "source": [
    "### 2-2 Split data into train and test sets"
   ]
  },
  {
   "cell_type": "code",
   "execution_count": 117,
   "id": "3c8616dd",
   "metadata": {},
   "outputs": [],
   "source": [
    "X_train, X_test, y_train, y_test = train_test_split(X_balanced, y_balanced, test_size=0.4,\n",
    "                                                    random_state=1, stratify=y_balanced)"
   ]
  },
  {
   "cell_type": "markdown",
   "id": "f827b89b",
   "metadata": {},
   "source": [
    "### 2-3 Value Standardisation"
   ]
  },
  {
   "cell_type": "code",
   "execution_count": 118,
   "id": "de650eb3",
   "metadata": {},
   "outputs": [],
   "source": [
    "scaler= StandardScaler()\n",
    "X = scaler.fit_transform(X)"
   ]
  },
  {
   "cell_type": "markdown",
   "id": "3eea272c",
   "metadata": {},
   "source": [
    "## Part 3 Machine Learning Algorithm"
   ]
  },
  {
   "cell_type": "markdown",
   "id": "62f6ef7b",
   "metadata": {},
   "source": [
    "### 3-1 Naive Bayes"
   ]
  },
  {
   "cell_type": "code",
   "execution_count": 119,
   "id": "339c3871",
   "metadata": {},
   "outputs": [
    {
     "name": "stdout",
     "output_type": "stream",
     "text": [
      "The accuracy of Naive Bayes model is: 0.8955521472392638\n",
      "              precision    recall  f1-score   support\n",
      "\n",
      "           0       0.87      0.93      0.90      3260\n",
      "           1       0.92      0.87      0.89      3260\n",
      "\n",
      "    accuracy                           0.90      6520\n",
      "   macro avg       0.90      0.90      0.90      6520\n",
      "weighted avg       0.90      0.90      0.90      6520\n",
      "\n"
     ]
    }
   ],
   "source": [
    "gnb = GaussianNB()\n",
    "pred_gnb = gnb.fit(X_train, y_train).predict(X_test)\n",
    "\n",
    "print(\"The accuracy of Naive Bayes model is:\", accuracy_score(y_test, pred_gnb))\n",
    "print(classification_report(y_test, pred_gnb))"
   ]
  },
  {
   "cell_type": "markdown",
   "id": "39ffb0e9",
   "metadata": {},
   "source": [
    "### 3-2 Logistic Regression"
   ]
  },
  {
   "cell_type": "code",
   "execution_count": 120,
   "id": "87391246",
   "metadata": {},
   "outputs": [
    {
     "name": "stdout",
     "output_type": "stream",
     "text": [
      "The accuracy of logistic model is: 0.976840490797546\n",
      "              precision    recall  f1-score   support\n",
      "\n",
      "           0       0.98      0.98      0.98      3260\n",
      "           1       0.98      0.98      0.98      3260\n",
      "\n",
      "    accuracy                           0.98      6520\n",
      "   macro avg       0.98      0.98      0.98      6520\n",
      "weighted avg       0.98      0.98      0.98      6520\n",
      "\n"
     ]
    }
   ],
   "source": [
    "logit= LogisticRegression()\n",
    "logit.fit(X_train, y_train)\n",
    "\n",
    "# Predicting the model\n",
    "pred_logit= logit.predict(X_test)\n",
    "\n",
    "print(\"The accuracy of logistic model is:\", accuracy_score(y_test, pred_logit))\n",
    "print(classification_report(y_test, pred_logit))"
   ]
  },
  {
   "cell_type": "markdown",
   "id": "618f6f26",
   "metadata": {},
   "source": [
    "### 3-3 Random Forest"
   ]
  },
  {
   "cell_type": "code",
   "execution_count": 121,
   "id": "ea9e1771",
   "metadata": {},
   "outputs": [],
   "source": [
    "rf= RandomForestClassifier()\n",
    "# Fitting the model\n",
    "rf.fit(X_train,y_train)\n",
    "# Predicting the model\n",
    "pred_rf= rf.predict(X_test)"
   ]
  },
  {
   "cell_type": "code",
   "execution_count": 122,
   "id": "2a0bf375",
   "metadata": {},
   "outputs": [
    {
     "name": "stdout",
     "output_type": "stream",
     "text": [
      "The accuracy of random forest is: 0.9961656441717791\n",
      "              precision    recall  f1-score   support\n",
      "\n",
      "           0       1.00      0.99      1.00      3260\n",
      "           1       0.99      1.00      1.00      3260\n",
      "\n",
      "    accuracy                           1.00      6520\n",
      "   macro avg       1.00      1.00      1.00      6520\n",
      "weighted avg       1.00      1.00      1.00      6520\n",
      "\n"
     ]
    }
   ],
   "source": [
    "print(\"The accuracy of random forest is:\", accuracy_score(y_test, pred_rf))\n",
    "print(classification_report(y_test, pred_rf))"
   ]
  },
  {
   "cell_type": "code",
   "execution_count": null,
   "id": "7aa6dfa2",
   "metadata": {},
   "outputs": [],
   "source": []
  }
 ],
 "metadata": {
  "kernelspec": {
   "display_name": "Python 3",
   "language": "python",
   "name": "python3"
  },
  "language_info": {
   "codemirror_mode": {
    "name": "ipython",
    "version": 3
   },
   "file_extension": ".py",
   "mimetype": "text/x-python",
   "name": "python",
   "nbconvert_exporter": "python",
   "pygments_lexer": "ipython3",
   "version": "3.8.8"
  }
 },
 "nbformat": 4,
 "nbformat_minor": 5
}
