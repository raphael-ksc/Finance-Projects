{
 "cells": [
  {
   "cell_type": "markdown",
   "id": "0411c341",
   "metadata": {},
   "source": [
    "# Contract Value"
   ]
  },
  {
   "cell_type": "code",
   "execution_count": 18,
   "id": "12114acf",
   "metadata": {},
   "outputs": [],
   "source": [
    "# basic libaries \n",
    "import pandas as pd\n",
    "import numpy as np\n",
    "import datetime\n",
    "\n",
    "# matplotlib\n",
    "import matplotlib.pyplot as plt\n",
    "from matplotlib.dates import DateFormatter\n",
    "\n",
    "# Just personal preference of colours \n",
    "Kookaburra = \"#003C55\"\n",
    "Possum = \"#73234B\"\n",
    "DarkBlue = \"061E3E\"\n",
    "Blue = \"002960\"\n",
    "Red = \"CD202C\"\n",
    "Turquoise = \"006983\"\n",
    "Cyan = \"0093D3\"\n",
    "\n",
    "# Million\n",
    "Million = 1000000"
   ]
  },
  {
   "cell_type": "code",
   "execution_count": 19,
   "id": "30f26dea",
   "metadata": {},
   "outputs": [],
   "source": [
    "def count(lst, target):\n",
    "    \n",
    "    \"\"\"\n",
    "    This function counts the number of target objects in the given list.\n",
    "    \"\"\"\n",
    "    \n",
    "    num_target = 0 \n",
    "    \n",
    "    for i in lst:\n",
    "        if i == target:\n",
    "            num_target += 1\n",
    "            \n",
    "    return num_target \n",
    "\n",
    "def convert_date(Date):\n",
    "    \n",
    "    \"\"\"\n",
    "    The function converts the input date to its datetime format.\n",
    "    The input must be string written as \"YYYY/MM/DD\"\n",
    "    \"\"\"\n",
    "    \n",
    "    Y = int(Date.split(\"/\")[0])\n",
    "    M = int(Date.split(\"/\")[1])\n",
    "    D = int(Date.split(\"/\")[2])\n",
    "    \n",
    "    return datetime.date(Y, M, D)\n",
    "\n",
    "\n",
    "def delta_day(Date1, Date2):\n",
    "    \n",
    "    \"\"\"This function returns the difference of days between the two input dates\n",
    "    The input must be string written as \"YYYY/MM/DD\"\"\"\n",
    "    \n",
    "    delta = convert_date(Date1) - convert_date(Date2)\n",
    "    \n",
    "    return delta.days \n",
    "    "
   ]
  },
  {
   "cell_type": "code",
   "execution_count": 104,
   "id": "ab379a9a",
   "metadata": {},
   "outputs": [],
   "source": [
    "def Pricing_Model(In_dates, With_dates, Prices, Rate, Max_vol, Storage):\n",
    "    \n",
    "    \"\"\"\n",
    "    \n",
    "    Parameters: \n",
    "        In_dates: a list of multiple injection dates\n",
    "        With_dates: a list of multiple withdrawl dates\n",
    "        Prices: a dictionary that contains historic natural gas prices as $X per ton. \n",
    "            It should follow the format: {<YYYY/MM/DD>: <price>,\n",
    "                                        {<YYYY/MM/DD>: <price>}\n",
    "            We neeed to ensure that each of In_dates and With_dates has a corresponding price in the dictionary, \n",
    "            or it will return an error. \n",
    "\n",
    "        Rate: a constant injection or withdrawl rate, written as $X per million ton\n",
    "        Max_vol: maximum volumns to be stored, X million tons\n",
    "        Storage: storate cost per million tons per month\n",
    "        \n",
    "    \"\"\"\n",
    "    \n",
    "    # Initiate the costs\n",
    "    Current_storage = 0\n",
    "    val_contract = 0\n",
    "    Storage_cost = 0\n",
    "    \n",
    "    # Create a list of dates that contain all injection and withdrawal dates without repetition\n",
    "    combined_dates = set(In_dates + With_dates)\n",
    "    combined_dates = sorted(list(set(In_dates + With_dates)))\n",
    "    \n",
    "    # Calculate the transaction cost\n",
    "    Transaction_cost = Rate * (len(In_dates) + len(With_dates))\n",
    "    \n",
    "    #print(\"combined dates = \", combined_dates)\n",
    "    \n",
    "    # Iterate through the whole list of dates to whether it has injection or withdrawl activities \n",
    "    for i in range(len(combined_dates)):\n",
    "        \n",
    "        date = combined_dates[i] # Current date\n",
    "    \n",
    "        # If the current date is part of the injection dates, we buy the assets\n",
    "        if date in In_dates:\n",
    "            val_contract -= count(In_dates, date)* Prices[date] * Million\n",
    "            # We count how many injections happen at the day\n",
    "        \n",
    "        # If the current date is part of the withdraw dates, we sell the assets\n",
    "        elif date in With_dates:\n",
    "            val_contract += count(With_dates, date)* Prices[date] * Million\n",
    "            # We count how many withdrawls happen at the day\n",
    "        \n",
    "        # Now we can have the current storage amount \n",
    "        Current_storage += count(In_dates, date) - count(With_dates, date)\n",
    "        \n",
    "        # If the contract storage at any point reaches exceeds its maximum volume,\\\n",
    "        # we need to message the client to consider another transaction\n",
    "        \n",
    "        if Current_storage > Max_vol:\n",
    "            print(\"This contract cannot happen as the storage exceeds its maximum volume, please consider another transaction\")\n",
    "            return 0 \n",
    "        \n",
    "        # Only when we are not in the last date should we consider next activity to get our storage cost\n",
    "        if i < len(combined_dates) - 1:\n",
    "            next_date = combined_dates[i + 1]\n",
    "            \n",
    "            Storage_cost += Current_storage * Storage * delta_day(next_date, date) / 365\n",
    "            \n",
    "    val_contract -= (Storage_cost + Transaction_cost)\n",
    "    \n",
    "    return val_contract\n",
    "    \n"
   ]
  },
  {
   "cell_type": "markdown",
   "id": "8148024b",
   "metadata": {},
   "source": [
    "### Testing Part "
   ]
  },
  {
   "cell_type": "code",
   "execution_count": 101,
   "id": "e0b12c94",
   "metadata": {},
   "outputs": [],
   "source": [
    "In_dates = [\"2023/02/03\", \"2023/05/06\", \"2023/05/06\", \"2023/02/03\", \"2023/02/05\"]\n",
    "With_dates = [\"2023/04/03\", \"2023/12/06\", \"2023/05/07\"]\n",
    "Prices = {\"2023/02/03\":10.2,\n",
    "          \"2023/02/05\":11.5,\n",
    "         \"2023/05/06\": 11.2,\n",
    "         \"2023/04/03\": 13.7,\n",
    "         \"2023/05/07\": 11.6,\n",
    "         \"2023/12/06\":7.8,\n",
    "         \"2023/04/08\": 7.5}\n",
    "Rate = 10000\n",
    "Max_vol = 2\n",
    "Storage = 100000"
   ]
  },
  {
   "cell_type": "code",
   "execution_count": 105,
   "id": "a9d3a332",
   "metadata": {},
   "outputs": [
    {
     "name": "stdout",
     "output_type": "stream",
     "text": [
      "This contract cannot happen as the storage exceeds its maximum volume, please consider another transaction\n"
     ]
    },
    {
     "data": {
      "text/plain": [
       "0"
      ]
     },
     "execution_count": 105,
     "metadata": {},
     "output_type": "execute_result"
    }
   ],
   "source": [
    "Pricing_Model(In_dates, With_dates, Prices, Rate, Max_vol, Storage)"
   ]
  },
  {
   "cell_type": "code",
   "execution_count": null,
   "id": "24c395e9",
   "metadata": {},
   "outputs": [],
   "source": []
  }
 ],
 "metadata": {
  "kernelspec": {
   "display_name": "Python 3",
   "language": "python",
   "name": "python3"
  },
  "language_info": {
   "codemirror_mode": {
    "name": "ipython",
    "version": 3
   },
   "file_extension": ".py",
   "mimetype": "text/x-python",
   "name": "python",
   "nbconvert_exporter": "python",
   "pygments_lexer": "ipython3",
   "version": "3.8.8"
  }
 },
 "nbformat": 4,
 "nbformat_minor": 5
}
